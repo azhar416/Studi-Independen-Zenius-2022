{
 "cells": [
  {
   "cell_type": "code",
   "execution_count": null,
   "id": "0ead9449-c728-4ce6-815e-4786871a1219",
   "metadata": {},
   "outputs": [],
   "source": [
    "import pandas as pd"
   ]
  },
  {
   "cell_type": "code",
   "execution_count": null,
   "id": "55134539-4345-4756-baaa-cf5a280b8f8a",
   "metadata": {},
   "outputs": [],
   "source": [
    "df=pd.read_csv(\"telco.csv\")\n",
    "df.head()"
   ]
  },
  {
   "cell_type": "code",
   "execution_count": null,
   "id": "253473a1-4747-47f2-8c66-d08ccd41587b",
   "metadata": {},
   "outputs": [],
   "source": [
    "df.columns"
   ]
  },
  {
   "cell_type": "code",
   "execution_count": null,
   "id": "3243c61a-ad0f-4e96-98d6-bbadc796a4e6",
   "metadata": {},
   "outputs": [],
   "source": [
    "## Check the proportion of 0 and 1 in Churn label\n",
    "df[\"Churn\"].value_counts()"
   ]
  },
  {
   "cell_type": "code",
   "execution_count": null,
   "id": "955c62fe-a0f2-4830-b946-20c33934ec65",
   "metadata": {},
   "outputs": [],
   "source": [
    "import seaborn as sns\n",
    "sns.countplot(df[\"Churn\"])"
   ]
  },
  {
   "cell_type": "code",
   "execution_count": null,
   "id": "3881e464-37e7-4476-ae6c-0eeb1eb6abe9",
   "metadata": {},
   "outputs": [],
   "source": [
    "from sklearn.utils import resample\n",
    "\n",
    "#create two different dataframe of majority and minority class \n",
    "df_majority = df[(df['Churn']==\"No\")] \n",
    "df_minority = df[(df['Churn']==\"Yes\")] \n",
    "# upsample minority class\n",
    "df_minority_upsampled = resample(df_minority, \n",
    "                                 replace=True,    # sample with replacement\n",
    "                                 n_samples= 5174, # to match majority class\n",
    "                                 random_state=42)  # reproducible results\n",
    "# Combine majority class with upsampled minority class\n",
    "df_upsampled = pd.concat([df_minority_upsampled, df_majority])"
   ]
  },
  {
   "cell_type": "code",
   "execution_count": null,
   "id": "7422cdad-4c74-4dc0-921e-443fe0ac82b7",
   "metadata": {},
   "outputs": [],
   "source": [
    "df_upsampled[\"Churn\"].value_counts()"
   ]
  },
  {
   "cell_type": "code",
   "execution_count": null,
   "id": "e78741d1-c733-4a9a-8370-9d92f1765f90",
   "metadata": {},
   "outputs": [],
   "source": [
    "df = df[[\"gender\", \"SeniorCitizen\", \"tenure\", \"Contract\", \"MonthlyCharges\", \"TotalCharges\", \"Churn\"]]"
   ]
  },
  {
   "cell_type": "code",
   "execution_count": null,
   "id": "b2cf8326-737e-4cb6-ace9-d6f518a41609",
   "metadata": {},
   "outputs": [],
   "source": [
    "df.loc[df[\"Churn\"] == \"No\", \"Churn\"] = 0\n",
    "df.loc[df[\"Churn\"] == \"Yes\", \"Churn\"] = 1"
   ]
  },
  {
   "cell_type": "code",
   "execution_count": null,
   "id": "c1fec76f-805e-47d9-b847-c370ab1510d2",
   "metadata": {},
   "outputs": [],
   "source": [
    "df.head()"
   ]
  },
  {
   "cell_type": "code",
   "execution_count": null,
   "id": "539eaaac-8c21-41e1-ab41-f4c0599a0883",
   "metadata": {},
   "outputs": [],
   "source": [
    "df.info()"
   ]
  },
  {
   "cell_type": "code",
   "execution_count": null,
   "id": "2fcfa7de-afc4-4824-8eb6-7444b0f5375c",
   "metadata": {},
   "outputs": [],
   "source": [
    "df =df[~(df[\"TotalCharges\"]== \" \")]"
   ]
  },
  {
   "cell_type": "code",
   "execution_count": null,
   "id": "32445beb-b945-4dda-824e-d4d305ebe924",
   "metadata": {},
   "outputs": [],
   "source": [
    "df[\"MonthlyCharges\"] = df[\"MonthlyCharges\"].astype(\"float\")\n",
    "df[\"TotalCharges\"] = df[\"TotalCharges\"].astype(\"float\")\n",
    "df[\"Churn\"] = df[\"Churn\"].astype(\"int\")"
   ]
  },
  {
   "cell_type": "code",
   "execution_count": null,
   "id": "65238f87-37f9-424c-910c-ac53e1c0b9ff",
   "metadata": {},
   "outputs": [],
   "source": [
    "#one hot encoding\n",
    "df = pd.get_dummies(df)\n",
    "df.head()"
   ]
  },
  {
   "cell_type": "code",
   "execution_count": null,
   "id": "4dbefdbb-c2e3-4e75-98f6-83a7b0958248",
   "metadata": {},
   "outputs": [],
   "source": [
    "df.info()"
   ]
  },
  {
   "cell_type": "code",
   "execution_count": null,
   "id": "136ad681-0ce4-4e27-9f59-cfe3bae443cd",
   "metadata": {},
   "outputs": [],
   "source": [
    "# defining feature matrix(X) and response vector(y)\n",
    "X = df.loc[:, df.columns != 'Churn']\n",
    "y = df[\"Churn\"]"
   ]
  },
  {
   "cell_type": "code",
   "execution_count": null,
   "id": "2378c7b3-0a8c-48a0-8513-7d1f7a8a0448",
   "metadata": {},
   "outputs": [],
   "source": [
    "# splitting X and y into training and testing sets\n",
    "from sklearn.model_selection import train_test_split\n",
    "X_train, X_test, y_train, y_test = train_test_split(X, y, test_size=0.4,\n",
    "                                                    random_state=1)"
   ]
  },
  {
   "cell_type": "code",
   "execution_count": null,
   "id": "ba044027-9f33-46ce-a4ca-7ef5ca303d08",
   "metadata": {},
   "outputs": [],
   "source": [
    "## Logistic Regression"
   ]
  },
  {
   "cell_type": "code",
   "execution_count": null,
   "id": "67e6e4ca-3dc4-4a96-874c-873f79f59b07",
   "metadata": {},
   "outputs": [],
   "source": [
    "from sklearn.linear_model import LogisticRegression\n",
    "lr = LogisticRegression()\n",
    "lr = lr.fit(X_train, y_train)"
   ]
  },
  {
   "cell_type": "code",
   "execution_count": null,
   "id": "4c518fd7-8f53-48bf-85da-0fab1798f365",
   "metadata": {},
   "outputs": [],
   "source": [
    "## Decision Tree"
   ]
  },
  {
   "cell_type": "code",
   "execution_count": null,
   "id": "2f04ef53-4660-4dab-a8f7-01d826f33349",
   "metadata": {},
   "outputs": [],
   "source": [
    "from sklearn import tree\n",
    "import pydotplus\n",
    "import matplotlib.pyplot as plt\n",
    "import matplotlib.image as pltimg\n",
    "\n",
    "dtree = tree.DecisionTreeClassifier()\n",
    "dtree = dtree.fit(X_train, y_train)"
   ]
  },
  {
   "cell_type": "code",
   "execution_count": null,
   "id": "f58097fa-220a-4867-b134-0ba6f1f142d1",
   "metadata": {},
   "outputs": [],
   "source": [
    "text_representation = tree.export_text(dtree)\n",
    "print(text_representation)"
   ]
  },
  {
   "cell_type": "code",
   "execution_count": null,
   "id": "4f88105b-6fe2-4266-9fa1-077bfcb7f0d0",
   "metadata": {},
   "outputs": [],
   "source": [
    "## Random Forest"
   ]
  },
  {
   "cell_type": "code",
   "execution_count": null,
   "id": "fdf14d2f-29c1-4439-abb3-4f236363c150",
   "metadata": {},
   "outputs": [],
   "source": [
    "from sklearn.ensemble import RandomForestClassifier\n",
    "\n",
    "classifier_rf = RandomForestClassifier(random_state=42, n_jobs=-1, max_depth=5,\n",
    "                                       n_estimators=100, oob_score=True)\n",
    "\n",
    "classifier_rf.fit(X_train, y_train)"
   ]
  },
  {
   "cell_type": "code",
   "execution_count": null,
   "id": "20247529-051e-4766-aa42-2c883c38e85a",
   "metadata": {},
   "outputs": [],
   "source": [
    "## Hyperparameter Tuning"
   ]
  },
  {
   "cell_type": "code",
   "execution_count": null,
   "id": "40d1e96c-45c5-41c8-a174-6a124d45342b",
   "metadata": {},
   "outputs": [],
   "source": [
    "rf = RandomForestClassifier(random_state=42, n_jobs=-1)"
   ]
  },
  {
   "cell_type": "code",
   "execution_count": null,
   "id": "03357f5a-feb8-46e1-ac5a-c72aeb373986",
   "metadata": {},
   "outputs": [],
   "source": [
    "params = {\n",
    "    'max_depth': [2,3,5,10,20],\n",
    "    'min_samples_leaf': [5,10,20,50,100,200],\n",
    "    'n_estimators': [10,25,30,50,100,200]\n",
    "}"
   ]
  },
  {
   "cell_type": "code",
   "execution_count": null,
   "id": "29296a82-9c3b-44d2-9c2b-1d5cb89d4d88",
   "metadata": {},
   "outputs": [],
   "source": [
    "from sklearn.model_selection import GridSearchCV\n",
    "\n",
    "# Instantiate the grid search model\n",
    "grid_search = GridSearchCV(estimator=rf,\n",
    "                           param_grid=params,\n",
    "                           cv = 4,\n",
    "                           n_jobs=-1, verbose=1, scoring=\"accuracy\")\n",
    "\n",
    "grid_search.fit(X_train, y_train)"
   ]
  },
  {
   "cell_type": "code",
   "execution_count": null,
   "id": "940f15f2-de2d-4dcf-b89e-8ebb9885be6b",
   "metadata": {},
   "outputs": [],
   "source": [
    "grid_search.best_score_"
   ]
  },
  {
   "cell_type": "code",
   "execution_count": null,
   "id": "ed00352a-5370-428a-af05-7b901c351553",
   "metadata": {},
   "outputs": [],
   "source": [
    "rf_best = grid_search.best_estimator_\n",
    "rf_best.fit(X_train, y_train)"
   ]
  },
  {
   "cell_type": "code",
   "execution_count": null,
   "id": "5090969e-92ff-4dd7-9808-e0c55ebf2db1",
   "metadata": {},
   "outputs": [],
   "source": [
    "## Evaluation"
   ]
  },
  {
   "cell_type": "code",
   "execution_count": null,
   "id": "02a2412a-08e5-463a-a862-d1c16faea266",
   "metadata": {},
   "outputs": [],
   "source": [
    "y_lr = lr.predict(X_test)\n",
    "y_dtree = dtree.predict(X_test)\n",
    "y_rf = rf_best.predict(X_test)"
   ]
  },
  {
   "cell_type": "code",
   "execution_count": null,
   "id": "4be83045-145e-40ce-bccb-04c4f1548cc5",
   "metadata": {},
   "outputs": [],
   "source": [
    "from sklearn.metrics import accuracy_score\n",
    "print(accuracy_score(y_test, y_lr))\n",
    "print(accuracy_score(y_test, y_dtree))\n",
    "print(accuracy_score(y_test, y_rf))"
   ]
  },
  {
   "cell_type": "code",
   "execution_count": null,
   "id": "317000a1-9906-4c79-987d-c4cfa9119d03",
   "metadata": {},
   "outputs": [],
   "source": [
    "from sklearn.metrics import precision_score\n",
    "print(precision_score(y_test, y_lr, average='macro'))\n",
    "print(precision_score(y_test, y_dtree, average='macro'))\n",
    "print(precision_score(y_test, y_rf, average='macro'))"
   ]
  },
  {
   "cell_type": "code",
   "execution_count": null,
   "id": "06ed649c-ebaa-47b7-b675-2883a14dc407",
   "metadata": {},
   "outputs": [],
   "source": [
    "from sklearn.metrics import recall_score\n",
    "print(recall_score(y_test, y_lr, average='macro'))\n",
    "print(recall_score(y_test, y_dtree, average='macro'))\n",
    "print(recall_score(y_test, y_rf, average='macro'))"
   ]
  },
  {
   "cell_type": "code",
   "execution_count": null,
   "id": "f0f5c3b4-1a60-4d2d-946c-bc01cf981032",
   "metadata": {},
   "outputs": [],
   "source": [
    "from sklearn.metrics import confusion_matrix\n",
    "print(confusion_matrix(y_test, y_lr))\n",
    "print(confusion_matrix(y_test, y_dtree))\n",
    "print(confusion_matrix(y_test, y_rf))"
   ]
  },
  {
   "cell_type": "code",
   "execution_count": null,
   "id": "c359db1a-e68e-488e-a404-26d3ea60561c",
   "metadata": {},
   "outputs": [],
   "source": [
    "from sklearn.metrics import roc_curve, auc\n",
    "fpr, tpr, thresholds = roc_curve(y_test, y_lr, pos_label=1) # pos_label: positive label\n",
    "print(auc(fpr, tpr))\n",
    "fpr, tpr, thresholds = roc_curve(y_test, y_dtree, pos_label=1) # pos_label: positive label\n",
    "print(auc(fpr, tpr))\n",
    "fpr, tpr, thresholds = roc_curve(y_test, y_rf, pos_label=1) # pos_label: positive label\n",
    "print(auc(fpr, tpr))"
   ]
  },
  {
   "cell_type": "code",
   "execution_count": null,
   "id": "938cd525-ab46-4164-9d92-0d4ef6140e30",
   "metadata": {},
   "outputs": [],
   "source": [
    "from sklearn.metrics import classification_report\n",
    "print(classification_report(y_test, y_lr))\n",
    "print(classification_report(y_test, y_dtree))\n",
    "print(classification_report(y_test, y_rf))"
   ]
  },
  {
   "cell_type": "code",
   "execution_count": null,
   "id": "13f3c22a-0254-4095-ac85-f92b7eef70c3",
   "metadata": {},
   "outputs": [],
   "source": []
  }
 ],
 "metadata": {
  "kernelspec": {
   "display_name": "Python 3",
   "language": "python",
   "name": "python3"
  },
  "language_info": {
   "codemirror_mode": {
    "name": "ipython",
    "version": 3
   },
   "file_extension": ".py",
   "mimetype": "text/x-python",
   "name": "python",
   "nbconvert_exporter": "python",
   "pygments_lexer": "ipython3",
   "version": "3.8.8"
  }
 },
 "nbformat": 4,
 "nbformat_minor": 5
}
